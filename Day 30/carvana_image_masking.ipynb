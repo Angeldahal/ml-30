{
  "cells": [
    {
      "cell_type": "code",
      "execution_count": null,
      "metadata": {
        "colab": {
          "base_uri": "https://localhost:8080/"
        },
        "id": "_TZ-jz5e1J1m",
        "outputId": "67663e10-81ee-4f9f-dc47-ac975b93c4bc"
      },
      "outputs": [],
      "source": [
        "!kaggle datasets download -d ipythonx/carvana-image-masking-png"
      ]
    },
    {
      "cell_type": "code",
      "execution_count": null,
      "metadata": {
        "colab": {
          "base_uri": "https://localhost:8080/"
        },
        "id": "uQ0G6lGY18UI",
        "outputId": "2f402ed2-5c50-47d2-f7b9-ab6d0a0e3394"
      },
      "outputs": [],
      "source": [
        "!unzip carvana-image-masking-png.zip"
      ]
    },
    {
      "cell_type": "code",
      "execution_count": null,
      "metadata": {
        "colab": {
          "base_uri": "https://localhost:8080/"
        },
        "id": "j9Lrg2Yt2K_3",
        "outputId": "7eb83ee2-0234-4a41-9237-ac6b60c9fc4c"
      },
      "outputs": [],
      "source": [
        "import glob\n",
        "\n",
        "images = glob.glob(\"train_images/*.jpg\")\n",
        "masks = glob.glob(\"train_masks/*.png\")\n",
        "print(len(images))\n",
        "print(len(masks))"
      ]
    },
    {
      "cell_type": "code",
      "execution_count": null,
      "metadata": {
        "colab": {
          "base_uri": "https://localhost:8080/"
        },
        "id": "VX0sMnai3bjY",
        "outputId": "16fa3164-9688-4875-a2a6-9e5607b92c86"
      },
      "outputs": [],
      "source": [
        "images_list = [img.split(\"/\")[1] for img in images]\n",
        "masks_list = [mask.split(\"/\")[1] for mask in masks]\n",
        "\n",
        "print(images_list[:5])\n",
        "print(masks_list[:5])"
      ]
    },
    {
      "cell_type": "code",
      "execution_count": null,
      "metadata": {
        "colab": {
          "base_uri": "https://localhost:8080/"
        },
        "id": "-4gqyHJc6MOP",
        "outputId": "55a70b87-c644-45d8-f985-14a86b28f03a"
      },
      "outputs": [],
      "source": [
        "images_names = [img.split(\".\")[0] for img in images_list]\n",
        "masks_names = [mask.split(\".\")[0] for mask in masks_list]\n",
        "\n",
        "print(images_names[:5])\n",
        "print(masks_names[:5])"
      ]
    },
    {
      "cell_type": "code",
      "execution_count": null,
      "metadata": {
        "colab": {
          "base_uri": "https://localhost:8080/"
        },
        "id": "lwWlvMxP6a2p",
        "outputId": "ed013404-0197-4ddb-bc63-1b3c8243d9f3"
      },
      "outputs": [],
      "source": [
        "val_images_count = int(0.25 * 5088)\n",
        "count = 0\n",
        "val_images_names = []\n",
        "\n",
        "for i in (images_names):\n",
        "    for j in (masks_names):\n",
        "        if i == j:\n",
        "            count += 1\n",
        "            val_images_names.append(j)\n",
        "            break\n",
        "    if count >= val_images_count:\n",
        "        break\n",
        "\n",
        "print(val_images_names[:5])"
      ]
    },
    {
      "cell_type": "code",
      "execution_count": null,
      "metadata": {
        "colab": {
          "base_uri": "https://localhost:8080/"
        },
        "id": "XI0PCr2C697T",
        "outputId": "0ccb251c-7159-4c02-b895-708ecec61e36"
      },
      "outputs": [],
      "source": [
        "print(len(val_images_names))"
      ]
    },
    {
      "cell_type": "code",
      "execution_count": null,
      "metadata": {
        "id": "-CD3DJKH7bFZ"
      },
      "outputs": [],
      "source": [
        "val_images = []\n",
        "val_masks = []\n",
        "for i in val_images_names:\n",
        "    for image in images:\n",
        "        if i in image:\n",
        "            val_images.append(image)\n"
      ]
    },
    {
      "cell_type": "code",
      "execution_count": null,
      "metadata": {
        "id": "4wuJd1x_91Q3"
      },
      "outputs": [],
      "source": [
        "val_mask_names = [img.replace(\".jpg\", \".png\") for img in val_images_names]"
      ]
    },
    {
      "cell_type": "code",
      "execution_count": null,
      "metadata": {
        "colab": {
          "base_uri": "https://localhost:8080/"
        },
        "id": "doZ6fyGm9-BV",
        "outputId": "e89d6982-f9ff-4eb6-d245-8c4adfc0763c"
      },
      "outputs": [],
      "source": [
        "val_mask_names[:5]"
      ]
    },
    {
      "cell_type": "code",
      "execution_count": null,
      "metadata": {
        "id": "pgTYcPM69eBD"
      },
      "outputs": [],
      "source": [
        "for i in val_mask_names:\n",
        "    for mask in masks:\n",
        "        if i in mask:\n",
        "            val_masks.append(mask)"
      ]
    },
    {
      "cell_type": "code",
      "execution_count": null,
      "metadata": {
        "colab": {
          "base_uri": "https://localhost:8080/"
        },
        "id": "nznRQeiA8ruJ",
        "outputId": "f0ceb159-0e02-464a-aa60-e605c4aa120f"
      },
      "outputs": [],
      "source": [
        "val_masks[:5]"
      ]
    },
    {
      "cell_type": "code",
      "execution_count": null,
      "metadata": {
        "colab": {
          "base_uri": "https://localhost:8080/"
        },
        "id": "_MbQGSl9-MWZ",
        "outputId": "49fa1ac2-5a2e-4f0e-9481-e41f90a42e99"
      },
      "outputs": [],
      "source": [
        "val_images[:5]"
      ]
    },
    {
      "cell_type": "code",
      "execution_count": null,
      "metadata": {
        "id": "ipIHcppO-YTQ"
      },
      "outputs": [],
      "source": [
        "import os\n",
        "\n",
        "os.makedirs(\"val_images\")\n",
        "os.makedirs(\"val_masks\")"
      ]
    },
    {
      "cell_type": "code",
      "execution_count": null,
      "metadata": {
        "id": "FtS-h0_q-ruN"
      },
      "outputs": [],
      "source": [
        "val_images_replaced = [img.replace(\"train_images\", \"val_images\") for img in val_images]\n",
        "val_masks_replaced = [mask.replace(\"train_masks\", \"val_masks\") for mask in val_masks]"
      ]
    },
    {
      "cell_type": "code",
      "execution_count": null,
      "metadata": {
        "colab": {
          "base_uri": "https://localhost:8080/"
        },
        "id": "a-8JIP-C-9d8",
        "outputId": "a94c44a7-4423-437d-9146-cba307f16f0a"
      },
      "outputs": [],
      "source": [
        "val_masks_replaced[:5]"
      ]
    },
    {
      "cell_type": "code",
      "execution_count": null,
      "metadata": {
        "id": "6b6vzejE-OQu"
      },
      "outputs": [],
      "source": [
        "for image, val_image in zip(val_images, val_images_replaced):\n",
        "    os.rename(f\"/content/{image}\", f\"/content/{val_image}\")\n",
        "\n",
        "for mask, val_mask in zip(val_masks, val_masks_replaced):\n",
        "    os.rename(f\"/content/{mask}\", f\"/content/{val_mask}\")"
      ]
    },
    {
      "cell_type": "code",
      "execution_count": null,
      "metadata": {
        "id": "0gFJHmo3_3Du"
      },
      "outputs": [],
      "source": [
        "##Unet Architecture\n",
        "import torch\n",
        "import torch.nn as nn\n",
        "import torchvision.transforms.functional as TF\n"
      ]
    },
    {
      "cell_type": "code",
      "execution_count": null,
      "metadata": {
        "id": "-UmGJ3-NAFm0"
      },
      "outputs": [],
      "source": [
        "class DoubleConv(nn.Module):\n",
        "    def __init__(self, in_channels, out_channels):\n",
        "        super(DoubleConv, self).__init__()\n",
        "\n",
        "        self.conv = nn.Sequential(\n",
        "            nn.Conv2d(in_channels, out_channels, 3, 1, 1, bias=False),\n",
        "            nn.BatchNorm2d(out_channels),\n",
        "            nn.ReLU(inplace=True),\n",
        "            nn.Conv2d(out_channels, out_channels, 3, 1, 1, bias=False),\n",
        "            nn.BatchNorm2d(out_channels),\n",
        "            nn.ReLU(inplace=True)\n",
        "        )\n",
        "\n",
        "    def forward(self, x):\n",
        "        return self.conv(x)"
      ]
    },
    {
      "cell_type": "code",
      "execution_count": null,
      "metadata": {
        "id": "VUCrqTgbA2YT"
      },
      "outputs": [],
      "source": [
        "class UNET(nn.Module):\n",
        "    def __init__(self, in_channels=3, out_channels=1, features=[64, 128, 256, 512]):\n",
        "        super(UNET, self).__init__()\n",
        "\n",
        "        self.ups = nn.ModuleList()\n",
        "        self.downs = nn.ModuleList()\n",
        "        self.pool = nn.MaxPool2d(kernel_size=2, stride=2)\n",
        "\n",
        "        for feature in features:\n",
        "            self.downs.append(DoubleConv(in_channels, feature))\n",
        "            in_channels = feature\n",
        "\n",
        "        for feature in reversed(features):\n",
        "            self.ups.append(\n",
        "                nn.ConvTranspose2d(\n",
        "                    feature*2, feature, kernel_size=2, stride=2\n",
        "                )\n",
        "            )\n",
        "            self.ups.append(DoubleConv(feature*2, feature))\n",
        "\n",
        "        self.bottleneck = DoubleConv(features[-1], features[-1] * 2)\n",
        "        self.final_conv = nn.Conv2d(features[0], out_channels, kernel_size=1)\n",
        "\n",
        "    def forward(self, x):\n",
        "        skip_connections = []\n",
        "\n",
        "        for down in self.downs:\n",
        "            x = down(x)\n",
        "            skip_connections.append(x)\n",
        "            x = self.pool(x)\n",
        "\n",
        "        x = self.bottleneck(x)\n",
        "        skip_connections = skip_connections[::-1]\n",
        "\n",
        "        for idx in range(0, len(self.ups), 2):\n",
        "            x = self.ups[idx](x)\n",
        "            skip_connection = skip_connections[idx//2]\n",
        "\n",
        "            if x.shape != skip_connection.shape:\n",
        "                x = TF.resize(x, size=skip_connection.shape[2:])\n",
        "\n",
        "            concat_skip = torch.cat((skip_connection, x), dim=1)\n",
        "            x = self.ups[idx + 1](concat_skip)\n",
        "        return self.final_conv(x)\n",
        "\n"
      ]
    },
    {
      "cell_type": "code",
      "execution_count": null,
      "metadata": {
        "id": "uHzS0pLnDTe1"
      },
      "outputs": [],
      "source": [
        "def test():\n",
        "    x = torch.randn((3, 1, 572, 572))\n",
        "    model = UNET(in_channels=1, out_channels=1)\n",
        "    preds = model(x)\n",
        "    assert preds.shape == x.shape"
      ]
    },
    {
      "cell_type": "code",
      "execution_count": null,
      "metadata": {
        "id": "itad3XSlDh5t"
      },
      "outputs": [],
      "source": [
        "test()"
      ]
    },
    {
      "cell_type": "code",
      "execution_count": null,
      "metadata": {
        "colab": {
          "base_uri": "https://localhost:8080/"
        },
        "id": "maIm8tYGF3jA",
        "outputId": "8c26c587-8a3e-467a-811c-68d265bfed50"
      },
      "outputs": [],
      "source": [
        "import gc\n",
        "gc.collect()"
      ]
    },
    {
      "cell_type": "code",
      "execution_count": null,
      "metadata": {
        "id": "976Hh_9pF6vC"
      },
      "outputs": [],
      "source": [
        "import numpy as np\n",
        "from torch.utils.data import Dataset\n",
        "from PIL import Image\n",
        "import os\n",
        "\n",
        "class CarvanaDataset(Dataset):\n",
        "    def __init__(self, image_dir, mask_dir, transform=None):\n",
        "        self.image_dir = image_dir\n",
        "        self.mask_dir = mask_dir\n",
        "        self.transform = transform\n",
        "        self.images = os.listdir(image_dir)\n",
        "\n",
        "    def __len__(self):\n",
        "        return len(self.images)\n",
        "\n",
        "    def __getitem__(self, index):\n",
        "        img_path = os.path.join(self.image_dir, self.images[index])\n",
        "        mask_path = os.path.join(self.mask_dir, self.images[index].replace(\".jpg\", \".png\"))\n",
        "        image = np.array(Image.open(img_path).convert(\"RGB\"))\n",
        "        mask = np.array(Image.open(mask_path).convert(\"L\"), dtype=np.float32)\n",
        "        mask[mask == 255.0] = 1.0\n",
        "\n",
        "        if self.transform is not None:\n",
        "            augmentations = self.transform(image=image, mask=mask)\n",
        "            image = augmentations[\"image\"]\n",
        "            mask = augmentations[\"mask\"]\n",
        "\n",
        "        return image, mask"
      ]
    },
    {
      "cell_type": "code",
      "execution_count": null,
      "metadata": {
        "id": "7Tkq2tIsKEPF"
      },
      "outputs": [],
      "source": [
        "import albumentations as A\n",
        "from albumentations.pytorch import ToTensorV2\n",
        "from tqdm import tqdm\n",
        "import torch.optim as optim\n",
        "\n",
        "# Hyperparameters etc.\n",
        "LEARNING_RATE = 1e-4\n",
        "DEVICE = \"cuda\" if torch.cuda.is_available() else \"cpu\"\n",
        "BATCH_SIZE = 16\n",
        "NUM_EPOCHS = 30\n",
        "NUM_WORKERS = 2\n",
        "IMAGE_HEIGHT = 320  # 1280 originally\n",
        "IMAGE_WIDTH = 480  # 1918 originally\n",
        "PIN_MEMORY = True\n",
        "LOAD_MODEL = False\n",
        "TRAIN_IMG_DIR = \"data/train_images/\"\n",
        "TRAIN_MASK_DIR = \"data/train_masks/\"\n",
        "VAL_IMG_DIR = \"data/val_images/\"\n",
        "VAL_MASK_DIR = \"data/val_masks/\""
      ]
    },
    {
      "cell_type": "code",
      "execution_count": null,
      "metadata": {
        "id": "V_oJCY2yiHI4"
      },
      "outputs": [],
      "source": [
        "def train_fn(loader, model, optimizer, loss_fn, scaler):\n",
        "    loop = tqdm(loader)\n",
        "\n",
        "    for batch_idx, (data, targets) in enumerate(loop):\n",
        "        data = data.to(device=DEVICE)\n",
        "        targets = targets.float().unsqueeze(1).to(device=DEVICE)\n",
        "\n",
        "        with torch.cuda.amp.autocast():\n",
        "            predictions = model(data)\n",
        "            loss = loss_fn(predictions, targets)\n",
        "\n",
        "        optimizer.zero_grad()\n",
        "        scaler.scale(loss).backward()\n",
        "        scaler.step(optimizer)\n",
        "        scaler.update()\n",
        "        loop.set_postfix(loss=loss.item())"
      ]
    },
    {
      "cell_type": "code",
      "execution_count": null,
      "metadata": {
        "id": "8e9IZu5ejyyD"
      },
      "outputs": [],
      "source": [
        "from torch.utils.data import DataLoader\n",
        "import torchvision\n",
        "\n",
        "def get_loaders(\n",
        "        train_dir,\n",
        "        train_mask_dir,\n",
        "        val_dir,\n",
        "        val_mask_dir,\n",
        "        batch_size,\n",
        "        train_transform,\n",
        "        val_transform,\n",
        "        num_workers=4,\n",
        "        pin_memory=True\n",
        "):\n",
        "    train_ds = CarvanaDataset(\n",
        "        image_dir=train_dir,\n",
        "        mask_dir=train_mask_dir,\n",
        "        transform=train_transform\n",
        "    )\n",
        "    train_loader = DataLoader(\n",
        "        train_ds,\n",
        "        batch_size=batch_size,\n",
        "        num_workers=num_workers,\n",
        "        pin_memory=pin_memory,\n",
        "        shuffle=True\n",
        "    )\n",
        "\n",
        "    val_ds = CarvanaDataset(\n",
        "        image_dir=val_dir,\n",
        "        mask_dir=val_mask_dir,\n",
        "        transform=val_transform\n",
        "    )\n",
        "    val_loader = DataLoader(\n",
        "        val_ds,\n",
        "        batch_size=batch_size,\n",
        "        num_workers=num_workers,\n",
        "        pin_memory=pin_memory,\n",
        "        shuffle=False\n",
        "    )\n",
        "\n",
        "    return train_loader, val_loader\n",
        "\n",
        "def load_checkpoint(checkpoint, model):\n",
        "    print(\"=> Loading checkpoint\")\n",
        "    model.load_state_dict(checkpoint[\"state_dict\"])\n",
        "\n",
        "def check_accuracy(loader, model, device=\"cuda\"):\n",
        "    num_correct = 0\n",
        "    num_pixels = 0\n",
        "    dice_score = 0\n",
        "    model.eval()\n",
        "\n",
        "    with torch.no_grad():\n",
        "        for x, y in loader:\n",
        "            x = x.to(device)\n",
        "            y = y.to(device).unsqueeze(1)\n",
        "            preds = torch.sigmoid(model(x))\n",
        "            preds = (preds > 0.5).float()\n",
        "            num_correct += (preds == y).sum()\n",
        "            num_pixels += torch.numel(preds)\n",
        "            dice_score += (2 * (preds * y).sum()) / (\n",
        "                (preds + y).sum() + 1e-8\n",
        "            )\n",
        "\n",
        "    print(\n",
        "        f\"Got {num_correct}/{num_pixels} with acc {num_correct/num_pixels*100:.2f}\"\n",
        "    )\n",
        "    print(f\"Dice score: {dice_score/len(loader)}\")\n",
        "    model.train()\n",
        "\n",
        "def save_checkpoint(state, filename=\"my_checkpoint.pth.tar\"):\n",
        "    print(\"=> Saving checkpoint\")\n",
        "    torch.save(state, filename)\n",
        "\n",
        "def save_predictions_as_imgs(loader, model, folder, device):\n",
        "    model.eval()\n",
        "    for idx, (x, y) in enumerate(loader):\n",
        "        x = x.to(device=device)\n",
        "        with torch.no_grad():\n",
        "            preds = torch.sigmoid(model(x))\n",
        "            preds = (preds > 0.5).float()\n",
        "        if not os.path.exists(folder):\n",
        "            os.makedirs(folder)\n",
        "        torchvision.utils.save_image(\n",
        "            preds, f\"{folder}/pred_{idx}.png\"\n",
        "        )\n",
        "        torchvision.utils.save_image(y.unsqueeze(1), f\"{folder}{idx}.png\")\n",
        "\n",
        "    model.train()"
      ]
    },
    {
      "cell_type": "code",
      "execution_count": null,
      "metadata": {
        "id": "EsN7Qf4_i3Tg"
      },
      "outputs": [],
      "source": [
        "def train_model():\n",
        "    train_transform = A.Compose([\n",
        "        A.Resize(height=IMAGE_HEIGHT, width=IMAGE_WIDTH),\n",
        "        A.Rotate(limit=35, p=1.0),\n",
        "        A.HorizontalFlip(p=0.5),\n",
        "        A.VerticalFlip(p=0.1),\n",
        "        A.Normalize(\n",
        "            mean=[0.0, 0.0, 0.0],\n",
        "            std=[1.0, 1.0, 1.0],\n",
        "            max_pixel_value=255.0,\n",
        "        ),\n",
        "        ToTensorV2(),\n",
        "    ])\n",
        "\n",
        "    val_transform = A.Compose(\n",
        "        [\n",
        "            A.Resize(height=IMAGE_HEIGHT, width=IMAGE_WIDTH),\n",
        "            A.Normalize(\n",
        "                mean=[0.0, 0.0, 0.0],\n",
        "                std=[1.0, 1.0, 1.0],\n",
        "                max_pixel_value=255.0,\n",
        "            ),\n",
        "            ToTensorV2(),\n",
        "        ],\n",
        "    )\n",
        "\n",
        "\n",
        "    model = UNET(in_channels=3, out_channels=1).to(DEVICE)\n",
        "    loss_fn = nn.BCEWithLogitsLoss()\n",
        "    optimizer = optim.Adam(model.parameters(), lr=LEARNING_RATE)\n",
        "\n",
        "    train_loader, val_loader = get_loaders(\n",
        "        TRAIN_IMG_DIR,\n",
        "        TRAIN_MASK_DIR,\n",
        "        VAL_IMG_DIR,\n",
        "        VAL_MASK_DIR,\n",
        "        BATCH_SIZE,\n",
        "        train_transform,\n",
        "        val_transform,\n",
        "        NUM_WORKERS,\n",
        "        PIN_MEMORY\n",
        "    )\n",
        "\n",
        "    if LOAD_MODEL:\n",
        "        load_checkpoint(torch.load(\"my_checkpoint.pth.tar\"), model)\n",
        "\n",
        "    check_accuracy(val_loader, model, device=DEVICE)\n",
        "    scaler = torch.cuda.amp.GradScaler()\n",
        "\n",
        "    for _ in range(NUM_EPOCHS):\n",
        "        train_fn(train_loader, model, optimizer, loss_fn, scaler)\n",
        "        checkpoint = {\n",
        "            \"state_dict\": model.state_dict(),\n",
        "            \"optimizer\": optimizer.state_dict()\n",
        "        }\n",
        "\n",
        "    save_checkpoint(checkpoint)\n",
        "\n",
        "    check_accuracy(val_loader, model, device=DEVICE)\n",
        "\n",
        "    save_predictions_as_imgs(\n",
        "        val_loader, model, folder=\"saved_images/\",device=DEVICE\n",
        "    )"
      ]
    },
    {
      "cell_type": "code",
      "execution_count": null,
      "metadata": {
        "colab": {
          "base_uri": "https://localhost:8080/"
        },
        "id": "RQUo2q4Qkbb6",
        "outputId": "69e60a56-2852-414b-926a-12e1c47016fd"
      },
      "outputs": [],
      "source": [
        "train_model()"
      ]
    },
    {
      "cell_type": "code",
      "execution_count": null,
      "metadata": {
        "colab": {
          "base_uri": "https://localhost:8080/"
        },
        "id": "Bxj3EWPHybsS",
        "outputId": "6d28b4fd-4382-47bb-a0dd-763afad03d36"
      },
      "outputs": [],
      "source": [
        "val_transform = A.Compose(\n",
        "    [\n",
        "        A.Resize(height=IMAGE_HEIGHT, width=IMAGE_WIDTH),\n",
        "        A.Normalize(\n",
        "            mean=[0.0, 0.0, 0.0],\n",
        "            std=[1.0, 1.0, 1.0],\n",
        "            max_pixel_value=255.0,\n",
        "        ),\n",
        "        ToTensorV2(),\n",
        "    ],\n",
        ")\n",
        "\n",
        "train_transform = A.Compose([\n",
        "    A.Resize(height=IMAGE_HEIGHT, width=IMAGE_WIDTH),\n",
        "    A.Rotate(limit=35, p=1.0),\n",
        "    A.HorizontalFlip(p=0.5),\n",
        "    A.VerticalFlip(p=0.1),\n",
        "    A.Normalize(\n",
        "        mean=[0.0, 0.0, 0.0],\n",
        "        std=[1.0, 1.0, 1.0],\n",
        "        max_pixel_value=255.0,\n",
        "    ),\n",
        "    ToTensorV2(),\n",
        "])\n",
        "_, val_loader = get_loaders(\n",
        "        TRAIN_IMG_DIR,\n",
        "        TRAIN_MASK_DIR,\n",
        "        VAL_IMG_DIR,\n",
        "        VAL_MASK_DIR,\n",
        "        BATCH_SIZE,\n",
        "        train_transform,\n",
        "        val_transform,\n",
        "        NUM_WORKERS,\n",
        "        PIN_MEMORY\n",
        "    )\n",
        "\n",
        "model = UNET(in_channels=3, out_channels=1).to(DEVICE)\n",
        "load_checkpoint(torch.load(\"my_checkpoint.pth.tar\"), model)\n",
        "save_predictions_as_imgs(\n",
        "    val_loader, model, folder=\"saved_images/\",device=DEVICE\n",
        ")"
      ]
    },
    {
      "cell_type": "code",
      "execution_count": null,
      "metadata": {
        "colab": {
          "base_uri": "https://localhost:8080/"
        },
        "id": "F3ioHnRGusPU",
        "outputId": "a6115a23-e13d-40fe-b634-463c9ebbb5e9"
      },
      "outputs": [],
      "source": [
        "example_image = np.array(Image.open(\"test_image.jpg\"), dtype=np.float32)\n",
        "example_image.shape"
      ]
    },
    {
      "cell_type": "code",
      "execution_count": null,
      "metadata": {
        "colab": {
          "base_uri": "https://localhost:8080/"
        },
        "id": "M0xqJ-mz0h_I",
        "outputId": "577233bf-34b6-43e9-b60d-57521114b0d6"
      },
      "outputs": [],
      "source": [
        "image = val_transform(image=example_image)\n",
        "image = image[\"image\"]\n",
        "image.shape"
      ]
    },
    {
      "cell_type": "code",
      "execution_count": null,
      "metadata": {
        "colab": {
          "base_uri": "https://localhost:8080/"
        },
        "id": "UNNLhdWv1Rqh",
        "outputId": "6dbaacf4-9bd8-46c0-958a-6c249c113fd9"
      },
      "outputs": [],
      "source": [
        "image = image.unsqueeze(-1)\n",
        "image.shape"
      ]
    },
    {
      "cell_type": "code",
      "execution_count": null,
      "metadata": {
        "colab": {
          "base_uri": "https://localhost:8080/"
        },
        "id": "bYORRFb91eEc",
        "outputId": "94f46f2e-9e47-475c-b3f7-6e21c49b0c15"
      },
      "outputs": [],
      "source": [
        "image = image.permute(3, 0, 1, 2)\n",
        "image.shape"
      ]
    },
    {
      "cell_type": "code",
      "execution_count": null,
      "metadata": {
        "id": "JzYuIZbe0XT7"
      },
      "outputs": [],
      "source": [
        "def predict(image_path, model, transform):\n",
        "    np_image = np.array(Image.open(image_path), dtype=np.float32)\n",
        "    image_pt = transform(image=np_image)[\"image\"]\n",
        "    image_pt = image_pt.unsqueeze(-1)\n",
        "    image_pt = image_pt.permute(3, 0, 1, 2)\n",
        "    image_pt = image_pt.to(DEVICE)\n",
        "\n",
        "    model.to(DEVICE)\n",
        "    model.eval()\n",
        "\n",
        "    with torch.no_grad():\n",
        "        preds = torch.sigmoid(model(image_pt))\n",
        "        print(preds)\n",
        "        preds = (preds > 0.5).float()\n",
        "        print(preds)\n",
        "    torchvision.utils.save_image(preds, \"test.png\")"
      ]
    },
    {
      "cell_type": "code",
      "execution_count": null,
      "metadata": {
        "colab": {
          "base_uri": "https://localhost:8080/"
        },
        "id": "BInseOou2b6f",
        "outputId": "2466d654-2b57-4599-a0cb-e06cc33d1572"
      },
      "outputs": [],
      "source": [
        "predict(\"test_image.jpg\", model, val_transform)"
      ]
    }
  ],
  "metadata": {
    "accelerator": "GPU",
    "colab": {
      "gpuType": "T4",
      "provenance": []
    },
    "kernelspec": {
      "display_name": "Python 3",
      "name": "python3"
    },
    "language_info": {
      "name": "python"
    }
  },
  "nbformat": 4,
  "nbformat_minor": 0
}
